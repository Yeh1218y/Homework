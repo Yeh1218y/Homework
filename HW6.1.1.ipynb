{
 "cells": [
  {
   "cell_type": "code",
   "execution_count": 1,
   "id": "45231524-967c-4db1-a0d3-4342b115ef40",
   "metadata": {},
   "outputs": [
    {
     "name": "stdout",
     "output_type": "stream",
     "text": [
      "Collecting pyttsx3\n",
      "  Downloading pyttsx3-2.98-py3-none-any.whl.metadata (3.8 kB)\n",
      "Collecting comtypes (from pyttsx3)\n",
      "  Downloading comtypes-1.4.8-py3-none-any.whl.metadata (7.1 kB)\n",
      "Collecting pypiwin32 (from pyttsx3)\n",
      "  Downloading pypiwin32-223-py3-none-any.whl.metadata (236 bytes)\n",
      "Requirement already satisfied: pywin32 in c:\\users\\88697\\anaconda3\\lib\\site-packages (from pyttsx3) (305.1)\n",
      "Downloading pyttsx3-2.98-py3-none-any.whl (34 kB)\n",
      "Downloading comtypes-1.4.8-py3-none-any.whl (229 kB)\n",
      "   ---------------------------------------- 0.0/229.4 kB ? eta -:--:--\n",
      "   ----- ---------------------------------- 30.7/229.4 kB 1.3 MB/s eta 0:00:01\n",
      "   --------------------- ------------------ 122.9/229.4 kB 1.4 MB/s eta 0:00:01\n",
      "   -------------------------------- ------- 184.3/229.4 kB 1.6 MB/s eta 0:00:01\n",
      "   ---------------------------------------- 229.4/229.4 kB 1.3 MB/s eta 0:00:00\n",
      "Downloading pypiwin32-223-py3-none-any.whl (1.7 kB)\n",
      "Installing collected packages: pypiwin32, comtypes, pyttsx3\n",
      "Successfully installed comtypes-1.4.8 pypiwin32-223 pyttsx3-2.98\n"
     ]
    }
   ],
   "source": [
    "!pip install pyttsx3"
   ]
  },
  {
   "cell_type": "code",
   "execution_count": 2,
   "id": "bcf88f30-594d-4520-ad48-add574fe7f9a",
   "metadata": {},
   "outputs": [],
   "source": [
    "import pyttsx3\n",
    "engine=pyttsx3.init()\n",
    "engine.setProperty('rate',160)\n",
    "engine.setProperty('volume',0.8)\n",
    "engine.say(\"You've got mail!\")\n",
    "engine.say(\"生日快樂\")\n",
    "engine.runAndWait()"
   ]
  },
  {
   "cell_type": "code",
   "execution_count": null,
   "id": "4115bac3-f28d-4f52-8f96-198cb9a9e3b6",
   "metadata": {},
   "outputs": [],
   "source": []
  },
  {
   "cell_type": "code",
   "execution_count": null,
   "id": "4b5c0f51-bc2d-4009-9076-fbecfd2be9aa",
   "metadata": {},
   "outputs": [],
   "source": []
  },
  {
   "cell_type": "code",
   "execution_count": null,
   "id": "e914807a-530e-46e1-8678-c4ff9cd50063",
   "metadata": {},
   "outputs": [],
   "source": []
  },
  {
   "cell_type": "code",
   "execution_count": null,
   "id": "3d071bc4-7c67-4d4c-b0dc-3d001cdab2a0",
   "metadata": {},
   "outputs": [],
   "source": []
  }
 ],
 "metadata": {
  "kernelspec": {
   "display_name": "Python 3 (ipykernel)",
   "language": "python",
   "name": "python3"
  },
  "language_info": {
   "codemirror_mode": {
    "name": "ipython",
    "version": 3
   },
   "file_extension": ".py",
   "mimetype": "text/x-python",
   "name": "python",
   "nbconvert_exporter": "python",
   "pygments_lexer": "ipython3",
   "version": "3.12.4"
  }
 },
 "nbformat": 4,
 "nbformat_minor": 5
}
