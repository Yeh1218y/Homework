{
 "cells": [
  {
   "cell_type": "code",
   "execution_count": 1,
   "id": "f2cc04a3-8054-4520-bdc9-40e3ba829a75",
   "metadata": {},
   "outputs": [],
   "source": [
    "import sympy as sp"
   ]
  },
  {
   "cell_type": "code",
   "execution_count": 2,
   "id": "92ae4191-ae3b-42e6-9cc2-168fdcc7d24b",
   "metadata": {},
   "outputs": [],
   "source": [
    "x=sp.Symbol('x')"
   ]
  },
  {
   "cell_type": "code",
   "execution_count": 10,
   "id": "8842371f-be9f-40a8-af73-222e62759ef4",
   "metadata": {},
   "outputs": [
    {
     "data": {
      "text/latex": [
       "$\\displaystyle - \\frac{\\cos{\\left(3 x \\right)}}{3}$"
      ],
      "text/plain": [
       "-cos(3*x)/3"
      ]
     },
     "execution_count": 10,
     "metadata": {},
     "output_type": "execute_result"
    }
   ],
   "source": [
    "sp.integrate(sp.sin(3*x),x)"
   ]
  },
  {
   "cell_type": "code",
   "execution_count": 16,
   "id": "45adcf3e-6528-44c4-8d6d-0c5e86d33549",
   "metadata": {},
   "outputs": [],
   "source": [
    "from scipy.integrate import quad"
   ]
  },
  {
   "cell_type": "code",
   "execution_count": 18,
   "id": "b41447db-137d-44ef-97dd-df5a0069b9e1",
   "metadata": {},
   "outputs": [],
   "source": [
    "import numpy as np"
   ]
  },
  {
   "cell_type": "code",
   "execution_count": 20,
   "id": "54ceed05-0b3a-4123-abaf-347f8fcf7c1b",
   "metadata": {},
   "outputs": [],
   "source": [
    "def f(x):\n",
    "    return np.exp(-x)*np.sin(3*x)"
   ]
  },
  {
   "cell_type": "code",
   "execution_count": 22,
   "id": "4e9a04ff-eaa8-4293-a974-dbdef3ae5523",
   "metadata": {},
   "outputs": [],
   "source": [
    "i=quad(f,0,2*np.pi)"
   ]
  },
  {
   "cell_type": "code",
   "execution_count": 24,
   "id": "94311285-52fe-4be8-86bc-76e9c876ce77",
   "metadata": {},
   "outputs": [
    {
     "name": "stdout",
     "output_type": "stream",
     "text": [
      "0.29943976718048754\n"
     ]
    }
   ],
   "source": [
    "print(i[0])"
   ]
  },
  {
   "cell_type": "code",
   "execution_count": null,
   "id": "52868c0a-9edd-442f-a9d0-cd3590a21923",
   "metadata": {},
   "outputs": [],
   "source": []
  }
 ],
 "metadata": {
  "kernelspec": {
   "display_name": "Python 3 (ipykernel)",
   "language": "python",
   "name": "python3"
  },
  "language_info": {
   "codemirror_mode": {
    "name": "ipython",
    "version": 3
   },
   "file_extension": ".py",
   "mimetype": "text/x-python",
   "name": "python",
   "nbconvert_exporter": "python",
   "pygments_lexer": "ipython3",
   "version": "3.12.4"
  }
 },
 "nbformat": 4,
 "nbformat_minor": 5
}
