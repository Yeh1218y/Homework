{
 "cells": [
  {
   "cell_type": "code",
   "execution_count": null,
   "id": "f77eb761-08b6-4508-815e-f865d3963e7b",
   "metadata": {},
   "outputs": [],
   "source": [
    "import numpy as np"
   ]
  },
  {
   "cell_type": "code",
   "execution_count": null,
   "id": "54e7e113-df13-41d7-a963-9248b441f7bc",
   "metadata": {},
   "outputs": [],
   "source": [
    "A=np.array([[1,-2,-1],[2,2,-1],[-1,-1,2]])"
   ]
  },
  {
   "cell_type": "code",
   "execution_count": null,
   "id": "41ed4b28-0efb-42f6-aeb9-ec4c0603c5da",
   "metadata": {},
   "outputs": [],
   "source": [
    "print(A)"
   ]
  },
  {
   "cell_type": "code",
   "execution_count": null,
   "id": "2de5e707-e22e-429b-a5e8-1e934aa3017e",
   "metadata": {},
   "outputs": [],
   "source": [
    "B=np.array([6,1,1])"
   ]
  },
  {
   "cell_type": "code",
   "execution_count": null,
   "id": "50ebc961-82c9-4f94-b16a-03ae376bc4a2",
   "metadata": {},
   "outputs": [],
   "source": [
    "H=np.linalg.solve(A,B)"
   ]
  }
 ],
 "metadata": {
  "kernelspec": {
   "display_name": "Python 3 (ipykernel)",
   "language": "python",
   "name": "python3"
  },
  "language_info": {
   "codemirror_mode": {
    "name": "ipython",
    "version": 3
   },
   "file_extension": ".py",
   "mimetype": "text/x-python",
   "name": "python",
   "nbconvert_exporter": "python",
   "pygments_lexer": "ipython3",
   "version": "3.12.4"
  }
 },
 "nbformat": 4,
 "nbformat_minor": 5
}
