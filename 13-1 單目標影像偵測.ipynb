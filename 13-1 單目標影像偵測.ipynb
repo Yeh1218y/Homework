{
 "cells": [
  {
   "cell_type": "code",
   "execution_count": 1,
   "metadata": {},
   "outputs": [],
   "source": [
    "# The ResNet50 model is imported from Keras website\n",
    "# Modified from https://keras.io/applications/\n",
    "# Usage examples for image classification models\n",
    "# Classify ImageNet classes with ResNet50\n",
    "\n",
    "from keras.applications.resnet50 import ResNet50 # load the model\n",
    "from keras.preprocessing import image\n",
    "from keras.applications.resnet50 import preprocess_input, decode_predictions\n",
    "import numpy as np\n",
    "import time"
   ]
  },
  {
   "cell_type": "code",
   "execution_count": 2,
   "metadata": {},
   "outputs": [],
   "source": [
    "# Load the weights of the ResNet50 model from website\n",
    "model = ResNet50(weights='imagenet')\n",
    "# The weights file is saved here\n",
    "# model = ResNet50(weights='C:\\Users\\yhkao\\.keras\\models\\resnet50_weights_tf_dim_ordering_tf_kernels.h5')"
   ]
  },
  {
   "cell_type": "code",
   "execution_count": 3,
   "metadata": {},
   "outputs": [],
   "source": [
    "# This part is for displaying the bar chart in a window\n",
    "# modified from https://matplotlib.org/gallery/user_interfaces/embedding_in_tk_sgskip.html\n",
    "\n",
    "import tkinter as tk\n",
    "from matplotlib.backends.backend_tkagg import (FigureCanvasTkAgg, NavigationToolbar2Tk)\n",
    "\n",
    "# Implement the default Matplotlib key bindings.\n",
    "from matplotlib.backend_bases import key_press_handler\n",
    "from matplotlib.figure import Figure\n",
    "import matplotlib.pyplot as plt\n",
    "import cv2\n",
    "import PIL\n",
    "from PIL import Image,ImageTk"
   ]
  },
  {
   "cell_type": "code",
   "execution_count": 4,
   "metadata": {},
   "outputs": [],
   "source": [
    "def MakePredictionOut(img_1):\n",
    "    #img_2 = img_1[0:480,0:480]\n",
    "    img_3 = cv2.resize(img_1,(224,224),2)\n",
    "    x_1 = image.img_to_array(img_3)\n",
    "    x_2 = np.expand_dims(x_1, axis=0)\n",
    "    x_3 = preprocess_input(x_2)\n",
    "    preds = model.predict(x_3)\n",
    "    results = decode_predictions(preds, top=3)\n",
    "    Category = ()\n",
    "    Probability = [];\n",
    "    for i in range(np.shape(results[0])[0]):\n",
    "        Category = Category+(results[0][i][1],)\n",
    "        Probability = Probability+[results[0][i][2],]\n",
    "    return Category, Probability"
   ]
  },
  {
   "cell_type": "code",
   "execution_count": 5,
   "metadata": {},
   "outputs": [],
   "source": [
    "# 預測結果作圖\n",
    "def plotResults(Category, Probability):\n",
    "    fig, ax = plt.subplots(figsize=(7,720/72))\n",
    "    ax.set_xlabel('Probability')\n",
    "    ax.set_title('What is it?')\n",
    "    y_pos = np.arange(len(Category))\n",
    "    x_pos = np.linspace(0,1,3)\n",
    "    ax.barh(y_pos,Probability,align='center',color='red',ecolor='black')\n",
    "    ax.set_yticks(y_pos)\n",
    "    ax.set_yticklabels([])\n",
    "    ax.set_xticks(x_pos)\n",
    "    for i, v in enumerate(Probability):\n",
    "        ax.text(0.05, i+0.01, str(Category[i]), color='blue', fontweight='bold',fontsize=18)\n",
    "        ax.invert_yaxis() # labels read top-to-bottom\n",
    "    return fig"
   ]
  },
  {
   "cell_type": "code",
   "execution_count": 6,
   "metadata": {},
   "outputs": [],
   "source": [
    "# figure 轉換成 array, http://www.icare.univ-lille1.fr/tutorials/convert_a_matplotlib_figure\n",
    "\n",
    "def fig2data(fig):\n",
    "    #Convert a Matplotlib figure to a 4D numpy array with RGBA channels and return it\n",
    "    #return a numpy 3D array of RGBA values\n",
    "    # draw the renderer\n",
    "    fig.canvas.draw( )\n",
    "    # Get the RGBA buffer from the figure\n",
    "    w,h = fig.canvas.get_width_height()\n",
    "    buf = np.frombuffer(fig.canvas.tostring_argb(),dtype=np.uint8)\n",
    "    buf.shape = (h,w,4)\n",
    "    # canvas.tostring_argb give pixmap in ARGB mode. Roll the ALPHA channel to have it in RGBA mode\n",
    "    buf = np.roll(buf,3,axis=2)\n",
    "    return buf"
   ]
  },
  {
   "cell_type": "code",
   "execution_count": 7,
   "metadata": {},
   "outputs": [
    {
     "name": "stdout",
     "output_type": "stream",
     "text": [
      "Image Size: 640 x 480\n"
     ]
    }
   ],
   "source": [
    "# 主程式, 從 Video 讀取一張影像, 用 MakePredictionOut 做預測.\n",
    "# 用 tk.Label.after 更新視窗內容, https://stackoverflow.com/questions/16366857/show-webcam-sequence-tkinter\n",
    "\n",
    "cap = cv2.VideoCapture(0)\n",
    "width = cap.get(cv2.CAP_PROP_FRAME_WIDTH)\n",
    "height = cap.get(cv2.CAP_PROP_FRAME_HEIGHT)\n",
    "print(\"Image Size: %d x %d\" % (width, height))\n",
    "\n",
    "root = tk.Tk()\n",
    "root.bind('<Escape>', lambda e: root.quit())\n",
    "lmain = tk.Label(root)\n",
    "lmain.pack()"
   ]
  },
  {
   "cell_type": "code",
   "execution_count": 8,
   "metadata": {},
   "outputs": [
    {
     "name": "stdout",
     "output_type": "stream",
     "text": [
      "It takes 0.263028 sec for each frame\n"
     ]
    }
   ],
   "source": [
    "def show_frame():\n",
    "    global tStart, tEnd\n",
    "    tStart = time.time() #計時開始\n",
    "    # 攝影機影像擷取\n",
    "    ret, frame_1 = cap.read()\n",
    "    frame_2 = frame_1[0:480,80:560]\n",
    "    frame = cv2.resize(frame_2,(720,720),1)\n",
    "    cv2image = cv2.cvtColor(frame, cv2.COLOR_BGR2RGBA)\n",
    "   \n",
    "    # 影像結果預測\n",
    "    Category, Probability = MakePredictionOut(frame)\n",
    "    \n",
    "    # 結果作圖\n",
    "    fig = plotResults(Category, Probability)\n",
    "    buf = fig2data(fig)\n",
    "    plt.close(fig)\n",
    "    \n",
    "    # 結合影像與結果\n",
    "    finimage = np.append(cv2image,buf,axis=1)\n",
    "    \n",
    "    # 轉換為輸出影像\n",
    "    img = PIL.Image.fromarray(finimage)\n",
    "    imgtk = ImageTk.PhotoImage(image=img)\n",
    "    lmain.imgtk = imgtk\n",
    "    lmain.configure(image=imgtk)\n",
    "    lmain.after(10, show_frame) # update every 10 ms\n",
    "    tEnd = time.time() #計時結束\n",
    "    #print('It takes %f sec for each frame' % (tEnd - tStart))\n",
    "\n",
    "show_frame()\n",
    "root.mainloop()\n",
    "\n",
    "# 在視窗右上角, 按 X 即可結束程式.\n",
    "cap.release()\n",
    "cv2.destroyAllWindows()\n",
    "print('It takes %f sec for each frame' % (tEnd - tStart))"
   ]
  },
  {
   "cell_type": "code",
   "execution_count": null,
   "metadata": {},
   "outputs": [],
   "source": []
  },
  {
   "cell_type": "code",
   "execution_count": null,
   "metadata": {},
   "outputs": [],
   "source": [
    "# https://www.youtube.com/watch?v=cRPgWHQjVLY"
   ]
  }
 ],
 "metadata": {
  "kernelspec": {
   "display_name": "Python 3",
   "language": "python",
   "name": "python3"
  },
  "language_info": {
   "codemirror_mode": {
    "name": "ipython",
    "version": 3
   },
   "file_extension": ".py",
   "mimetype": "text/x-python",
   "name": "python",
   "nbconvert_exporter": "python",
   "pygments_lexer": "ipython3",
   "version": "3.8.5"
  }
 },
 "nbformat": 4,
 "nbformat_minor": 4
}
