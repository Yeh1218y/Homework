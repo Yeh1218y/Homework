{
 "cells": [
  {
   "cell_type": "code",
   "execution_count": 2,
   "id": "6e476958-1a74-416a-b362-6f6dbd2eb043",
   "metadata": {},
   "outputs": [
    {
     "name": "stdout",
     "output_type": "stream",
     "text": [
      "Requirement already satisfied: opencv-python in c:\\users\\88697\\anaconda3\\lib\\site-packages (4.10.0.84)\n",
      "Requirement already satisfied: numpy>=1.21.2 in c:\\users\\88697\\anaconda3\\lib\\site-packages (from opencv-python) (1.26.4)\n"
     ]
    }
   ],
   "source": [
    "!pip install opencv-python"
   ]
  },
  {
   "cell_type": "code",
   "execution_count": 3,
   "id": "a8d44bb9-90bd-4005-b49e-8bcf1a65ddb7",
   "metadata": {},
   "outputs": [],
   "source": [
    "import cv2 \n",
    "import numpy as np"
   ]
  },
  {
   "cell_type": "code",
   "execution_count": 4,
   "id": "ce2b22ce-c825-4af3-ae20-85b940be78ab",
   "metadata": {},
   "outputs": [],
   "source": [
    "image=cv2.imread(\"c:/apple.jpg\")"
   ]
  },
  {
   "cell_type": "code",
   "execution_count": 5,
   "id": "14657377-bf49-4b2d-9d0e-b436dc8137b7",
   "metadata": {},
   "outputs": [],
   "source": [
    "hsv=cv2.cvtColor(image,cv2.COLOR_BGR2HSV)"
   ]
  },
  {
   "cell_type": "code",
   "execution_count": 6,
   "id": "815bb5e5-0b20-4c87-af75-0869a863f46f",
   "metadata": {},
   "outputs": [],
   "source": [
    "weaker = np.array([0,0,100])\n",
    "stronger = np.array([10,255,255])"
   ]
  },
  {
   "cell_type": "code",
   "execution_count": 7,
   "id": "38416a90-be89-4784-8879-509c69edb057",
   "metadata": {},
   "outputs": [],
   "source": [
    "mask = cv2.inRange(hsv,weaker,stronger) "
   ]
  },
  {
   "cell_type": "code",
   "execution_count": 8,
   "id": "415a8b25-12ea-45f7-811a-74ce7d027483",
   "metadata": {},
   "outputs": [],
   "source": [
    "cv2.imshow('Image',image)"
   ]
  },
  {
   "cell_type": "code",
   "execution_count": 9,
   "id": "32fd408b-d7f5-463b-b409-d7a62595eba8",
   "metadata": {},
   "outputs": [],
   "source": [
    "cv2.imshow('Result',mask)"
   ]
  },
  {
   "cell_type": "code",
   "execution_count": null,
   "id": "cc729712-e87d-4936-bb83-3db0609e2340",
   "metadata": {},
   "outputs": [],
   "source": [
    "cv2.waitKey(0)"
   ]
  },
  {
   "cell_type": "code",
   "execution_count": null,
   "id": "df162d27-a7b0-4e82-8cac-6a6d62035d6a",
   "metadata": {},
   "outputs": [],
   "source": [
    "cv2.destroyAllWindows()"
   ]
  },
  {
   "cell_type": "code",
   "execution_count": null,
   "id": "c585a334-bb51-47d6-be1f-943b454f7fd2",
   "metadata": {},
   "outputs": [],
   "source": []
  }
 ],
 "metadata": {
  "kernelspec": {
   "display_name": "Python 3 (ipykernel)",
   "language": "python",
   "name": "python3"
  },
  "language_info": {
   "codemirror_mode": {
    "name": "ipython",
    "version": 3
   },
   "file_extension": ".py",
   "mimetype": "text/x-python",
   "name": "python",
   "nbconvert_exporter": "python",
   "pygments_lexer": "ipython3",
   "version": "3.12.4"
  }
 },
 "nbformat": 4,
 "nbformat_minor": 5
}
