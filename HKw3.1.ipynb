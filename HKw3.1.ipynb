{
 "cells": [
  {
   "cell_type": "code",
   "execution_count": 10,
   "id": "209d6deb-9e41-4e46-bfa2-dac9047cada6",
   "metadata": {},
   "outputs": [
    {
     "name": "stdout",
     "output_type": "stream",
     "text": [
      "Requirement already satisfied: SnowNLP in c:\\users\\88697\\anaconda3\\lib\\site-packages (0.12.3)\n"
     ]
    }
   ],
   "source": [
    "!pip install SnowNLP"
   ]
  },
  {
   "cell_type": "code",
   "execution_count": 11,
   "id": "e43ce55f-192c-4766-bcda-3a2a249f2801",
   "metadata": {},
   "outputs": [],
   "source": [
    "from snownlp import SnowNLP"
   ]
  },
  {
   "cell_type": "code",
   "execution_count": 12,
   "id": "be41808b-ee3f-4f3b-9ac4-3fb9f14b62be",
   "metadata": {},
   "outputs": [],
   "source": [
    "text=u\"我今天很快樂。我今天很憤怒。\""
   ]
  },
  {
   "cell_type": "code",
   "execution_count": 13,
   "id": "60d9d014-2f64-4bcf-86fe-cb8bf354c68b",
   "metadata": {},
   "outputs": [],
   "source": [
    "s= SnowNLP(text)"
   ]
  },
  {
   "cell_type": "code",
   "execution_count": 14,
   "id": "7efc623c-597c-4031-b63b-e7d06e67a974",
   "metadata": {},
   "outputs": [
    {
     "name": "stdout",
     "output_type": "stream",
     "text": [
      "我今天很快樂\n",
      "我今天很憤怒\n"
     ]
    }
   ],
   "source": [
    "for sentence in s.sentences:\n",
    "    print(sentence)"
   ]
  },
  {
   "cell_type": "code",
   "execution_count": 15,
   "id": "de8c5ebc-8335-4361-8ed5-d843a2c596ed",
   "metadata": {},
   "outputs": [],
   "source": [
    "s1=SnowNLP(s.sentences[0])"
   ]
  },
  {
   "cell_type": "code",
   "execution_count": 16,
   "id": "4c2ee05e-18d8-4231-bb3a-af1bd978f2cc",
   "metadata": {},
   "outputs": [
    {
     "data": {
      "text/plain": [
       "0.9268071116367116"
      ]
     },
     "execution_count": 16,
     "metadata": {},
     "output_type": "execute_result"
    }
   ],
   "source": [
    "s1.sentiments"
   ]
  },
  {
   "cell_type": "code",
   "execution_count": 17,
   "id": "277e2f0b-a6fa-4c74-bcbe-8006ec8a4ce5",
   "metadata": {},
   "outputs": [],
   "source": [
    "s1=SnowNLP(s.sentences[1])"
   ]
  },
  {
   "cell_type": "code",
   "execution_count": 18,
   "id": "6f28da68-a8a2-41a3-bce7-d24611833ab5",
   "metadata": {},
   "outputs": [
    {
     "data": {
      "text/plain": [
       "0.1702660762575916"
      ]
     },
     "execution_count": 18,
     "metadata": {},
     "output_type": "execute_result"
    }
   ],
   "source": [
    "s1.sentiments"
   ]
  },
  {
   "cell_type": "code",
   "execution_count": null,
   "id": "704ed37e-0c72-453c-aa1b-20c006b62c94",
   "metadata": {},
   "outputs": [],
   "source": []
  }
 ],
 "metadata": {
  "kernelspec": {
   "display_name": "Python 3 (ipykernel)",
   "language": "python",
   "name": "python3"
  },
  "language_info": {
   "codemirror_mode": {
    "name": "ipython",
    "version": 3
   },
   "file_extension": ".py",
   "mimetype": "text/x-python",
   "name": "python",
   "nbconvert_exporter": "python",
   "pygments_lexer": "ipython3",
   "version": "3.12.4"
  }
 },
 "nbformat": 4,
 "nbformat_minor": 5
}
