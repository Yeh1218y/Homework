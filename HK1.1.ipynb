{
 "cells": [
  {
   "cell_type": "code",
   "execution_count": 1,
   "id": "6f61b2e0-7de5-4de1-8c9d-b831257f65a5",
   "metadata": {},
   "outputs": [],
   "source": [
    "level1=540000*0.05\n",
    "level2=(1210000-540000)*0.12\n",
    "level3=(2420000-1210000)*0.2\n",
    "level4=(4530000-2420000)*0.3"
   ]
  },
  {
   "cell_type": "code",
   "execution_count": null,
   "id": "6d26c329-5470-43b9-99ab-58f3099aa02e",
   "metadata": {},
   "outputs": [],
   "source": [
    "income=int(input('請輸入淨年所得額:'))"
   ]
  },
  {
   "cell_type": "code",
   "execution_count": 5,
   "id": "3efb3eba-bfb3-4776-b77e-ade314d8249b",
   "metadata": {},
   "outputs": [
    {
     "ename": "NameError",
     "evalue": "name 'income' is not defined",
     "output_type": "error",
     "traceback": [
      "\u001b[1;31m---------------------------------------------------------------------------\u001b[0m",
      "\u001b[1;31mNameError\u001b[0m                                 Traceback (most recent call last)",
      "Cell \u001b[1;32mIn[5], line 1\u001b[0m\n\u001b[1;32m----> 1\u001b[0m \u001b[38;5;28;01mif\u001b[39;00m income \u001b[38;5;241m<\u001b[39m\u001b[38;5;241m=\u001b[39m \u001b[38;5;241m540000\u001b[39m:\n\u001b[0;32m      2\u001b[0m     tax\u001b[38;5;241m=\u001b[39mincome\u001b[38;5;241m*\u001b[39m\u001b[38;5;241m0.05\u001b[39m\n\u001b[0;32m      3\u001b[0m \u001b[38;5;28;01melif\u001b[39;00m income \u001b[38;5;241m<\u001b[39m\u001b[38;5;241m=\u001b[39m \u001b[38;5;241m1210000\u001b[39m:\n",
      "\u001b[1;31mNameError\u001b[0m: name 'income' is not defined"
     ]
    }
   ],
   "source": [
    "if income <= 540000:\n",
    "    tax=income*0.05\n",
    "elif income <= 1210000:\n",
    "    tax=level1+((income-540000)*0.12)\n",
    "elif income <= 2420000:\n",
    "    tax=level1+level2+((income-1210000)*0.2)\n",
    "elif income <= 4530000:\n",
    "    tax=level1+level2+level3+((income-2420000)*0.3)\n",
    "else:\n",
    "    tax=level1+level2+level3+level4+((income-4530000)*0.4)\n",
    "print('應繳稅額=',tax)"
   ]
  },
  {
   "cell_type": "code",
   "execution_count": null,
   "id": "22f0a3f2-ba9e-4be6-8967-c7666d6085ed",
   "metadata": {},
   "outputs": [],
   "source": []
  }
 ],
 "metadata": {
  "kernelspec": {
   "display_name": "Python 3 (ipykernel)",
   "language": "python",
   "name": "python3"
  },
  "language_info": {
   "codemirror_mode": {
    "name": "ipython",
    "version": 3
   },
   "file_extension": ".py",
   "mimetype": "text/x-python",
   "name": "python",
   "nbconvert_exporter": "python",
   "pygments_lexer": "ipython3",
   "version": "3.12.7"
  }
 },
 "nbformat": 4,
 "nbformat_minor": 5
}
