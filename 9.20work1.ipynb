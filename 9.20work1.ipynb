{
 "cells": [
  {
   "cell_type": "code",
   "execution_count": 2,
   "id": "1c29ccc9-3ba8-4bae-a612-c01cad3ebac4",
   "metadata": {},
   "outputs": [],
   "source": [
    "level1=540000*0.05"
   ]
  },
  {
   "cell_type": "code",
   "execution_count": 4,
   "id": "25e769b8-c00c-41eb-b36d-61a82b05bf43",
   "metadata": {},
   "outputs": [],
   "source": [
    "level2=(1210000-540000)*0.12"
   ]
  },
  {
   "cell_type": "code",
   "execution_count": 6,
   "id": "98cb6ef2-f69b-4b4f-8b9f-7aedd26cb2af",
   "metadata": {},
   "outputs": [],
   "source": [
    "level3=(2420000-1210000)*0.2"
   ]
  },
  {
   "cell_type": "code",
   "execution_count": 8,
   "id": "5d2e9c20-dced-40f1-b211-e3a085cc59d9",
   "metadata": {},
   "outputs": [],
   "source": [
    "level4=(4530000-2420000)*0.3"
   ]
  },
  {
   "cell_type": "code",
   "execution_count": null,
   "id": "9daef5b2-33d7-42b9-a440-3cba02f55037",
   "metadata": {},
   "outputs": [],
   "source": [
    "income=int(input('請輸入淨年所得額'))"
   ]
  },
  {
   "cell_type": "code",
   "execution_count": null,
   "id": "183a9d82-8ebb-47c9-87ef-5197516aa7c5",
   "metadata": {},
   "outputs": [],
   "source": [
    "if income <= 540000:\n",
    "    tax = income * 0.05\n",
    "elif income <= 1210000:\n",
    "    tax = level1 + (income - 540000) * 0.12\n",
    "elif income <= 2420000:\n",
    "    tax = level1 + level2 + (income - 1210000) * 0.2\n",
    "elif income <= 4530000:\n",
    "    tax = level1 + level2 + level3 + (income - 2420000) * 0.3\n",
    "else:\n",
    "    tax = level1 + level2 + level3 + level4 + (income - 4530000) * 0.4"
   ]
  },
  {
   "cell_type": "code",
   "execution_count": null,
   "id": "ebadec10-e378-4e82-908d-27817d869937",
   "metadata": {},
   "outputs": [],
   "source": [
    "print('應繳稅額=',tax)"
   ]
  },
  {
   "cell_type": "code",
   "execution_count": null,
   "id": "f7a23752-292d-4689-8ae0-16148583802c",
   "metadata": {},
   "outputs": [],
   "source": []
  }
 ],
 "metadata": {
  "kernelspec": {
   "display_name": "Python 3 (ipykernel)",
   "language": "python",
   "name": "python3"
  },
  "language_info": {
   "codemirror_mode": {
    "name": "ipython",
    "version": 3
   },
   "file_extension": ".py",
   "mimetype": "text/x-python",
   "name": "python",
   "nbconvert_exporter": "python",
   "pygments_lexer": "ipython3",
   "version": "3.12.4"
  }
 },
 "nbformat": 4,
 "nbformat_minor": 5
}
