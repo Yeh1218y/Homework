{
 "cells": [
  {
   "cell_type": "code",
   "execution_count": 14,
   "id": "85ab3a1f-53b6-4786-9f69-7a7130cd4bc1",
   "metadata": {},
   "outputs": [
    {
     "name": "stdout",
     "output_type": "stream",
     "text": [
      "Collecting face_recognition\n",
      "  Downloading face_recognition-1.3.0-py2.py3-none-any.whl.metadata (21 kB)\n",
      "Collecting face-recognition-models>=0.3.0 (from face_recognition)\n",
      "  Downloading face_recognition_models-0.3.0.tar.gz (100.1 MB)\n",
      "     ---------------------------------------- 0.0/100.1 MB ? eta -:--:--\n",
      "     ---------------------------------------- 0.0/100.1 MB ? eta -:--:--\n",
      "      --------------------------------------- 1.3/100.1 MB 5.2 MB/s eta 0:00:20\n",
      "      --------------------------------------- 2.4/100.1 MB 5.2 MB/s eta 0:00:19\n",
      "     - -------------------------------------- 2.9/100.1 MB 5.2 MB/s eta 0:00:19\n",
      "     - -------------------------------------- 4.2/100.1 MB 4.7 MB/s eta 0:00:21\n",
      "     -- ------------------------------------- 5.8/100.1 MB 5.2 MB/s eta 0:00:19\n",
      "     --- ------------------------------------ 7.6/100.1 MB 5.7 MB/s eta 0:00:17\n",
      "     --- ------------------------------------ 9.7/100.1 MB 6.4 MB/s eta 0:00:15\n",
      "     ---- ---------------------------------- 11.8/100.1 MB 6.8 MB/s eta 0:00:13\n",
      "     ----- --------------------------------- 13.9/100.1 MB 7.2 MB/s eta 0:00:12\n",
      "     ------ -------------------------------- 16.5/100.1 MB 7.8 MB/s eta 0:00:11\n",
      "     ------- ------------------------------- 19.4/100.1 MB 8.2 MB/s eta 0:00:10\n",
      "     -------- ------------------------------ 21.2/100.1 MB 8.3 MB/s eta 0:00:10\n",
      "     --------- ----------------------------- 23.9/100.1 MB 8.6 MB/s eta 0:00:09\n",
      "     ---------- ---------------------------- 26.5/100.1 MB 8.9 MB/s eta 0:00:09\n",
      "     ----------- --------------------------- 28.8/100.1 MB 9.1 MB/s eta 0:00:08\n",
      "     ----------- --------------------------- 30.7/100.1 MB 9.1 MB/s eta 0:00:08\n",
      "     ------------- ------------------------- 33.6/100.1 MB 9.3 MB/s eta 0:00:08\n",
      "     -------------- ------------------------ 36.4/100.1 MB 9.5 MB/s eta 0:00:07\n",
      "     --------------- ----------------------- 39.3/100.1 MB 9.7 MB/s eta 0:00:07\n",
      "     ---------------- ---------------------- 41.4/100.1 MB 9.8 MB/s eta 0:00:06\n",
      "     ---------------- ---------------------- 43.5/100.1 MB 9.8 MB/s eta 0:00:06\n",
      "     ----------------- --------------------- 45.4/100.1 MB 9.8 MB/s eta 0:00:06\n",
      "     ------------------ -------------------- 47.7/100.1 MB 9.8 MB/s eta 0:00:06\n",
      "     ------------------- ------------------- 49.3/100.1 MB 9.7 MB/s eta 0:00:06\n",
      "     -------------------- ------------------ 51.4/100.1 MB 9.8 MB/s eta 0:00:05\n",
      "     -------------------- ------------------ 53.7/100.1 MB 9.8 MB/s eta 0:00:05\n",
      "     --------------------- ----------------- 56.1/100.1 MB 9.8 MB/s eta 0:00:05\n",
      "     ---------------------- ---------------- 57.9/100.1 MB 9.9 MB/s eta 0:00:05\n",
      "     ---------------------- ---------------- 58.7/100.1 MB 9.6 MB/s eta 0:00:05\n",
      "     ----------------------- --------------- 61.3/100.1 MB 9.7 MB/s eta 0:00:05\n",
      "     ------------------------ -------------- 64.0/100.1 MB 9.7 MB/s eta 0:00:04\n",
      "     ------------------------- ------------- 66.1/100.1 MB 9.7 MB/s eta 0:00:04\n",
      "     -------------------------- ------------ 68.4/100.1 MB 9.8 MB/s eta 0:00:04\n",
      "     --------------------------- ----------- 71.3/100.1 MB 9.9 MB/s eta 0:00:03\n",
      "     ---------------------------- ---------- 73.9/100.1 MB 9.9 MB/s eta 0:00:03\n",
      "     ----------------------------- -------- 77.1/100.1 MB 10.1 MB/s eta 0:00:03\n",
      "     ------------------------------ ------- 79.7/100.1 MB 10.2 MB/s eta 0:00:03\n",
      "     ------------------------------- ------ 82.1/100.1 MB 10.2 MB/s eta 0:00:02\n",
      "     ------------------------------- ------ 84.1/100.1 MB 10.1 MB/s eta 0:00:02\n",
      "     -------------------------------- ----- 86.8/100.1 MB 10.2 MB/s eta 0:00:02\n",
      "     --------------------------------- ---- 88.9/100.1 MB 10.2 MB/s eta 0:00:02\n",
      "     ---------------------------------- --- 91.0/100.1 MB 10.2 MB/s eta 0:00:01\n",
      "     ----------------------------------- -- 93.1/100.1 MB 10.2 MB/s eta 0:00:01\n",
      "     ------------------------------------ - 95.2/100.1 MB 10.2 MB/s eta 0:00:01\n",
      "     ------------------------------------ - 97.3/100.1 MB 10.1 MB/s eta 0:00:01\n",
      "     -------------------------------------  98.8/100.1 MB 10.1 MB/s eta 0:00:01\n",
      "     ------------------------------------  100.1/100.1 MB 10.1 MB/s eta 0:00:01\n",
      "     -------------------------------------- 100.1/100.1 MB 9.9 MB/s eta 0:00:00\n",
      "  Preparing metadata (setup.py): started\n",
      "  Preparing metadata (setup.py): finished with status 'done'\n",
      "Requirement already satisfied: Click>=6.0 in c:\\users\\yehm0\\anaconda3\\lib\\site-packages (from face_recognition) (8.1.7)\n",
      "Collecting dlib>=19.7 (from face_recognition)\n",
      "  Downloading dlib-19.24.6.tar.gz (3.4 MB)\n",
      "     ---------------------------------------- 0.0/3.4 MB ? eta -:--:--\n",
      "     ------------ --------------------------- 1.0/3.4 MB 6.3 MB/s eta 0:00:01\n",
      "     ---------------------------------------- 3.4/3.4 MB 9.1 MB/s eta 0:00:00\n",
      "  Preparing metadata (setup.py): started\n",
      "  Preparing metadata (setup.py): finished with status 'done'\n",
      "Requirement already satisfied: numpy in c:\\users\\yehm0\\anaconda3\\lib\\site-packages (from face_recognition) (1.26.4)\n",
      "Requirement already satisfied: Pillow in c:\\users\\yehm0\\anaconda3\\lib\\site-packages (from face_recognition) (10.4.0)\n",
      "Requirement already satisfied: colorama in c:\\users\\yehm0\\anaconda3\\lib\\site-packages (from Click>=6.0->face_recognition) (0.4.6)\n",
      "Downloading face_recognition-1.3.0-py2.py3-none-any.whl (15 kB)\n",
      "Building wheels for collected packages: dlib, face-recognition-models\n",
      "  Building wheel for dlib (setup.py): started\n",
      "  Building wheel for dlib (setup.py): finished with status 'error'\n",
      "  Running setup.py clean for dlib\n",
      "  Building wheel for face-recognition-models (setup.py): started\n",
      "  Building wheel for face-recognition-models (setup.py): finished with status 'done'\n",
      "  Created wheel for face-recognition-models: filename=face_recognition_models-0.3.0-py2.py3-none-any.whl size=100566178 sha256=c30064b259422f84051b98d6941e80f078eb3dbcb62f01f5c62a2fa209a64112\n",
      "  Stored in directory: c:\\users\\yehm0\\appdata\\local\\pip\\cache\\wheels\\8f\\47\\c8\\f44c5aebb7507f7c8a2c0bd23151d732d0f0bd6884ad4ac635\n",
      "Successfully built face-recognition-models\n",
      "Failed to build dlib\n"
     ]
    },
    {
     "name": "stderr",
     "output_type": "stream",
     "text": [
      "  error: subprocess-exited-with-error\n",
      "  \n",
      "  python setup.py bdist_wheel did not run successfully.\n",
      "  exit code: 1\n",
      "  \n",
      "  [47 lines of output]\n",
      "  C:\\Users\\yehm0\\AppData\\Local\\Temp\\pip-install-gleo_ml4\\dlib_8eb497b8486643d884eaec4c8b88f734\\setup.py:234: SyntaxWarning: invalid escape sequence '\\('\n",
      "    major = re.findall(\"set\\(CPACK_PACKAGE_VERSION_MAJOR.*\\\"(.*)\\\"\", open(cmake_file).read())[0]\n",
      "  C:\\Users\\yehm0\\AppData\\Local\\Temp\\pip-install-gleo_ml4\\dlib_8eb497b8486643d884eaec4c8b88f734\\setup.py:235: SyntaxWarning: invalid escape sequence '\\('\n",
      "    minor = re.findall(\"set\\(CPACK_PACKAGE_VERSION_MINOR.*\\\"(.*)\\\"\", open(cmake_file).read())[0]\n",
      "  C:\\Users\\yehm0\\AppData\\Local\\Temp\\pip-install-gleo_ml4\\dlib_8eb497b8486643d884eaec4c8b88f734\\setup.py:236: SyntaxWarning: invalid escape sequence '\\('\n",
      "    patch = re.findall(\"set\\(CPACK_PACKAGE_VERSION_PATCH.*\\\"(.*)\\\"\", open(cmake_file).read())[0]\n",
      "  running bdist_wheel\n",
      "  running build\n",
      "  running build_ext\n",
      "  \n",
      "  ================================================================================\n",
      "  ================================================================================\n",
      "  ================================================================================\n",
      "  \n",
      "                     CMake is not installed on your system!\n",
      "  \n",
      "      Or it is possible some broken copy of cmake is installed on your system.\n",
      "      It is unfortunately very common for python package managers to include\n",
      "      broken copies of cmake.  So if the error above this refers to some file\n",
      "      path to a cmake file inside a python or anaconda or miniconda path then you\n",
      "      should delete that broken copy of cmake from your computer.\n",
      "  \n",
      "      Instead, please get an official copy of cmake from one of these known good\n",
      "      sources of an official cmake:\n",
      "          - cmake.org (this is how windows users should get cmake)\n",
      "          - apt install cmake (for Ubuntu or Debian based systems)\n",
      "          - yum install cmake (for Redhat or CenOS based systems)\n",
      "  \n",
      "      On a linux machine you can run `which cmake` to see what cmake you are\n",
      "      actually using.  If it tells you it's some cmake from any kind of python\n",
      "      packager delete it and install an official cmake.\n",
      "  \n",
      "      More generally, cmake is not installed if when you open a terminal window\n",
      "      and type\n",
      "         cmake --version\n",
      "      you get an error.  So you can use that as a very basic test to see if you\n",
      "      have cmake installed.  That is, if cmake --version doesn't run from the\n",
      "      same terminal window from which you are reading this error message, then\n",
      "      you have not installed cmake.  Windows users should take note that they\n",
      "      need to tell the cmake installer to add cmake to their PATH.  Since you\n",
      "      can't run commands that are not in your PATH.  This is how the PATH works\n",
      "      on Linux as well, but failing to add cmake to the PATH is a particularly\n",
      "      common problem on windows and rarely a problem on Linux.\n",
      "  \n",
      "  ================================================================================\n",
      "  ================================================================================\n",
      "  ================================================================================\n",
      "  [end of output]\n",
      "  \n",
      "  note: This error originates from a subprocess, and is likely not a problem with pip.\n",
      "  ERROR: Failed building wheel for dlib\n",
      "ERROR: ERROR: Failed to build installable wheels for some pyproject.toml based projects (dlib)\n"
     ]
    }
   ],
   "source": [
    "!pip install face_recognition"
   ]
  },
  {
   "cell_type": "code",
   "execution_count": 15,
   "id": "e12d0b1e-e2fc-4093-bdc1-308cf0ae89aa",
   "metadata": {},
   "outputs": [
    {
     "ename": "ModuleNotFoundError",
     "evalue": "No module named 'face_recognition'",
     "output_type": "error",
     "traceback": [
      "\u001b[1;31m---------------------------------------------------------------------------\u001b[0m",
      "\u001b[1;31mModuleNotFoundError\u001b[0m                       Traceback (most recent call last)",
      "Cell \u001b[1;32mIn[15], line 1\u001b[0m\n\u001b[1;32m----> 1\u001b[0m \u001b[38;5;28;01mimport\u001b[39;00m \u001b[38;5;21;01mface_recognition\u001b[39;00m\n\u001b[0;32m      2\u001b[0m \u001b[38;5;28;01mfrom\u001b[39;00m \u001b[38;5;21;01mPIL\u001b[39;00m \u001b[38;5;28;01mimport\u001b[39;00m Image,ImageDraw\n",
      "\u001b[1;31mModuleNotFoundError\u001b[0m: No module named 'face_recognition'"
     ]
    }
   ],
   "source": [
    "import face_recognition\n",
    "from PIL import Image,ImageDraw"
   ]
  },
  {
   "cell_type": "code",
   "execution_count": null,
   "id": "800d5823-32e3-4cba-a9b2-cb7fc39e5395",
   "metadata": {},
   "outputs": [],
   "source": [
    "image_of_Fa=face_recognition.load_image_file('c:/face1.jpg')\n",
    "Fa_face_encoding=face_recognition.face_encodings(image_of_Fa)[0]\n",
    "plt.imshow(image_of_Fa)"
   ]
  },
  {
   "cell_type": "code",
   "execution_count": null,
   "id": "623828f4-d1e7-473e-9b57-871181159c04",
   "metadata": {},
   "outputs": [],
   "source": [
    "image_of_Esther=face_recognition.load_image_file('c:/face2.jpg')\n",
    "Esther_face_encoding=face_recognition.face_encodings(image_of_Esther)[0]\n",
    "plt.imshow(image_of_Esther)"
   ]
  },
  {
   "cell_type": "code",
   "execution_count": null,
   "id": "05402d18-5efa-4709-991e-1acb530e9b13",
   "metadata": {},
   "outputs": [],
   "source": [
    "image_of_Winston=face_recognition.load_image_file('c:/face3.jpg')\n",
    "Winston_face_encoding=face_recognition.face_encodings(image_of_Winston)[0]\n",
    "plt.imshow(image_of_Winston)"
   ]
  },
  {
   "cell_type": "code",
   "execution_count": null,
   "id": "a19bf187-ab37-4fc2-b2ab-e8d068b98dfd",
   "metadata": {},
   "outputs": [],
   "source": [
    "known_face_encodings=[Fa_face_encoding,Winston_face_encoding]\n",
    "known_face_names=[\"Fa\",\"Winston\"]"
   ]
  },
  {
   "cell_type": "code",
   "execution_count": null,
   "id": "f8ec25b7-d705-4515-b984-22f73c5ede97",
   "metadata": {},
   "outputs": [],
   "source": [
    "test_image=face_recognition.load_image_file('c:/people.jpg')\n",
    "plt.imshow(test_image)"
   ]
  },
  {
   "cell_type": "code",
   "execution_count": null,
   "id": "2b8c0c8b-3ef0-4036-88fe-42ca553b8664",
   "metadata": {},
   "outputs": [],
   "source": [
    "face_locations=face_recognition.face_locations(test_image)\n",
    "face_encodings=face_recognition.face_encodings(test_image,face_locations)"
   ]
  },
  {
   "cell_type": "code",
   "execution_count": null,
   "id": "a93a2b87-f894-42f3-a90f-83778f2fa262",
   "metadata": {},
   "outputs": [],
   "source": [
    "pil_image=Image.formarray(test_image)\n",
    "draw=ImageDraw.Draw(pil_image)"
   ]
  },
  {
   "cell_type": "code",
   "execution_count": null,
   "id": "8cb1a1e7-58f6-4060-8693-191bbad8c1bb",
   "metadata": {},
   "outputs": [],
   "source": [
    "for(top,right,botton,left),face_encoding in zip(face_location,face_encodings):\n",
    "    matches=face_recognition.compare_faces(known_face_encodings_face_encoding)\n",
    "    name=\"unknown Person\"\n",
    "    if True in matches:\n",
    "        first_match_index=matches.index(True)\n",
    "        name=known_face_names[first_match_index]\n",
    "     if True in matches:\n",
    "        second_match_index=matches.index(True)\n",
    "        name=known_face_names[second_match_index]\n",
    "    draw.rectangle(((left,top),(right,bottom)),outline=(0,0,0))\n",
    "\n",
    "    text_width,text_height=draw.textsize(name)\n",
    "    draw.rectangle(((left,bottom-text_height-8),(right,bottom)),fill=(0,0,225),outline=(0,0,0))\n",
    "    draw.text((left+6,bottom-text_height-3),name,fill=(0,225,0))\n",
    "del draw"
   ]
  },
  {
   "cell_type": "code",
   "execution_count": null,
   "id": "0d2a4641-6448-4361-b74d-98465a78db7f",
   "metadata": {},
   "outputs": [],
   "source": [
    "pil_image.show()\n",
    "pil_image.save('c:/identify.jpg')"
   ]
  },
  {
   "cell_type": "code",
   "execution_count": null,
   "id": "3bc53db7-f742-40d6-a91f-82f929e47b48",
   "metadata": {},
   "outputs": [],
   "source": []
  }
 ],
 "metadata": {
  "kernelspec": {
   "display_name": "Python 3 (ipykernel)",
   "language": "python",
   "name": "python3"
  },
  "language_info": {
   "codemirror_mode": {
    "name": "ipython",
    "version": 3
   },
   "file_extension": ".py",
   "mimetype": "text/x-python",
   "name": "python",
   "nbconvert_exporter": "python",
   "pygments_lexer": "ipython3",
   "version": "3.12.7"
  }
 },
 "nbformat": 4,
 "nbformat_minor": 5
}
