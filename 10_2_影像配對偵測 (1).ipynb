{
 "cells": [
  {
   "cell_type": "code",
   "execution_count": 2,
   "metadata": {
    "id": "OhcsgnKNY3aZ",
    "outputId": "c1785231-5001-42cc-a311-bb75464182ec"
   },
   "outputs": [
    {
     "name": "stdout",
     "output_type": "stream",
     "text": [
      "Requirement already satisfied: pygame in c:\\users\\yehm0\\anaconda3\\lib\\site-packages (2.6.1)\n",
      "pygame 2.6.1 (SDL 2.28.4, Python 3.12.7)\n",
      "Hello from the pygame community. https://www.pygame.org/contribute.html\n"
     ]
    },
    {
     "ename": "AttributeError",
     "evalue": "module 'PIL.Image' has no attribute 'ANTIALIAS'",
     "output_type": "error",
     "traceback": [
      "\u001b[1;31m---------------------------------------------------------------------------\u001b[0m",
      "\u001b[1;31mAttributeError\u001b[0m                            Traceback (most recent call last)",
      "Cell \u001b[1;32mIn[2], line 31\u001b[0m\n\u001b[0;32m     29\u001b[0m myimg\u001b[38;5;241m=\u001b[39mImage\u001b[38;5;241m.\u001b[39mopen(\u001b[38;5;124m\"\u001b[39m\u001b[38;5;124mc:/chen9.jpg\u001b[39m\u001b[38;5;124m\"\u001b[39m)\n\u001b[0;32m     30\u001b[0m imgCrop\u001b[38;5;241m=\u001b[39mmyimg\u001b[38;5;241m.\u001b[39mcrop((x,y,x\u001b[38;5;241m+\u001b[39mw, y\u001b[38;5;241m+\u001b[39mh))\n\u001b[1;32m---> 31\u001b[0m imgResize\u001b[38;5;241m=\u001b[39mimgCrop\u001b[38;5;241m.\u001b[39mresize((\u001b[38;5;241m150\u001b[39m,\u001b[38;5;241m150\u001b[39m), Image\u001b[38;5;241m.\u001b[39mANTIALIAS)\n\u001b[0;32m     32\u001b[0m \u001b[38;5;66;03m#imgResize.save(\"d:/picture/newface2.jpg\")                       # 儲存檔案\u001b[39;00m\n\u001b[0;32m     33\u001b[0m color\u001b[38;5;241m=\u001b[39m(\u001b[38;5;241m255\u001b[39m,\u001b[38;5;241m0\u001b[39m,\u001b[38;5;241m0\u001b[39m)\n",
      "\u001b[1;31mAttributeError\u001b[0m: module 'PIL.Image' has no attribute 'ANTIALIAS'"
     ]
    }
   ],
   "source": [
    "!pip install pygame\n",
    "import numpy as np\n",
    "import cv2\n",
    "from pygame import mixer\n",
    "\n",
    "\n",
    "from PIL import Image\n",
    "from functools import reduce\n",
    "import math, operator\n",
    "\n",
    "cap=cv2.VideoCapture(0)\n",
    "\n",
    "face_cascade=cv2.CascadeClassifier('c:/haarcascade_frontalface_default.xml')\n",
    "\n",
    "while(True):\n",
    "    # Capture frame-by-frame\n",
    "    ret, frame=cap.read()\n",
    "    gray=cv2.cvtColor(frame, cv2.COLOR_BGR2GRAY)\n",
    "    faces=face_cascade.detectMultiScale(gray, scaleFactor=1.5, minNeighbors=5)\n",
    "    for (x, y, w, h) in faces:\n",
    "        #point(x, y ,w, h)\n",
    "        roi_gray=gray[y:y+h, x:x+w]  #(ycord_start, ycord_end)\n",
    "        roi_color=frame[y:y+h, x:x+w]\n",
    "\n",
    "       # recognize, deep learned\n",
    "\n",
    "        img_item=\"c:/chen9.jpg\"  # at c:/User/USER2018/my-image.png\n",
    "        cv2.imwrite(img_item, roi_gray)\n",
    "        myimg=Image.open(\"c:/chen9.jpg\")\n",
    "        imgCrop=myimg.crop((x,y,x+w, y+h))\n",
    "        imgResize=imgCrop.resize((150,150), Image.ANTIALIAS)\n",
    "        #imgResize.save(\"d:/picture/newface2.jpg\")                       # 儲存檔案\n",
    "        color=(255,0,0)\n",
    "        stroke=2\n",
    "\n",
    "\n",
    "        # display the resulting frame\n",
    "\n",
    "        cv2.namedWindow(\"FaceRecognition\", cv2.WINDOW_NORMAL)\n",
    "        cv2.imshow(\"FaceRecognition\", frame)\n",
    "\n",
    "        end_cord_x=x+w\n",
    "        end_cord_y=y+h\n",
    "        cv2.rectangle(frame, (x,y), (end_cord_x, end_cord_y), color, stroke)\n",
    "\n",
    "\n",
    "    # display the resulting frame\n",
    "\n",
    "    cv2.imshow('frame', frame)\n",
    "    if cv2.waitKey(20) & 0xFF == ord('q'):\n",
    "        break\n",
    "\n",
    "# When everything done, release the capture and press 'q'"
   ]
  },
  {
   "cell_type": "code",
   "execution_count": null,
   "metadata": {
    "id": "esDL4CK8Y3aa",
    "outputId": "1f3f744c-e397-4d20-f503-69f4a5c46189"
   },
   "outputs": [],
   "source": [
    "h1 = Image.open(\"c:/chen8.jpg\").histogram()\n",
    "h2 = Image.open(\"c:/chen9.jpg\").histogram()\n",
    "RMS = math.sqrt(reduce(operator.add, list(map(lambda a,b:(a-b)**2, h1, h2)))/len(h1))\n",
    "print(\"RMS = \", RMS)\n",
    "\n",
    "if RMS <= 100:\n",
    "    print(\"歡迎出入境\")\n",
    "    mixer.init()\n",
    "    mixer.music.load('welcome.mp3')\n",
    "    mixer.music.play()\n",
    "else:\n",
    "    print(\"比對失敗\")\n",
    "    mixer.init()\n",
    "    mixer.music.load('failure.mp3')\n",
    "    mixer.music.play()"
   ]
  },
  {
   "cell_type": "code",
   "execution_count": null,
   "metadata": {
    "id": "Pj4RLXMXY3ab"
   },
   "outputs": [],
   "source": [
    "cap.release()\n",
    "cv2.destroyAllWindows()"
   ]
  },
  {
   "cell_type": "code",
   "execution_count": null,
   "metadata": {
    "id": "MT6bQBp2Y3ab"
   },
   "outputs": [],
   "source": [
    "# 按 q 結束圖形"
   ]
  },
  {
   "cell_type": "code",
   "execution_count": null,
   "metadata": {
    "id": "ziVihuLvY3ad",
    "outputId": "eddc5629-1b2f-4bef-db21-3351d39d846b"
   },
   "outputs": [],
   "source": [
    "h1 = Image.open(\"c:/chen8.jpg\").histogram()\n",
    "h2 = Image.open(\"c:/chen9.jpg\").histogram()\n",
    "RMS = math.sqrt(reduce(operator.add, list(map(lambda a,b:(a-b)**2, h1, h2)))/len(h1))\n",
    "print(\"RMS = \", RMS)\n",
    "\n",
    "if RMS <= 250:\n",
    "    print(\"歡迎出入境\")\n",
    "    mixer.init()\n",
    "    mixer.music.load('welcome.mp3')\n",
    "    mixer.music.play()\n",
    "else:\n",
    "    print(\"比對失敗\")\n",
    "    mixer.init()\n",
    "    mixer.music.load('failure.mp3')\n",
    "    mixer.music.play()"
   ]
  },
  {
   "cell_type": "code",
   "execution_count": null,
   "metadata": {
    "id": "LfF8OJYWY3ae"
   },
   "outputs": [],
   "source": [
    "# 按 q 結束圖形"
   ]
  },
  {
   "cell_type": "code",
   "execution_count": null,
   "metadata": {
    "id": "u_n2hwvhY3ae"
   },
   "outputs": [],
   "source": [
    "# https://www.youtube.com/watch?v=PmZ29Vta7Vc"
   ]
  },
  {
   "cell_type": "code",
   "execution_count": null,
   "metadata": {
    "id": "hTqMjqhVY3ae"
   },
   "outputs": [],
   "source": [
    "# Python 入門邁向高手之路亡者歸來  洪錦魁 2018年"
   ]
  },
  {
   "cell_type": "code",
   "execution_count": null,
   "metadata": {},
   "outputs": [],
   "source": []
  },
  {
   "cell_type": "code",
   "execution_count": null,
   "metadata": {},
   "outputs": [],
   "source": []
  }
 ],
 "metadata": {
  "colab": {
   "provenance": []
  },
  "kernelspec": {
   "display_name": "Python 3 (ipykernel)",
   "language": "python",
   "name": "python3"
  },
  "language_info": {
   "codemirror_mode": {
    "name": "ipython",
    "version": 3
   },
   "file_extension": ".py",
   "mimetype": "text/x-python",
   "name": "python",
   "nbconvert_exporter": "python",
   "pygments_lexer": "ipython3",
   "version": "3.12.7"
  }
 },
 "nbformat": 4,
 "nbformat_minor": 4
}
