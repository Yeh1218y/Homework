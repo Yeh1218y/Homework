{
 "cells": [
  {
   "cell_type": "code",
   "execution_count": 1,
   "metadata": {},
   "outputs": [],
   "source": [
    "import cv2\n",
    "import numpy as np\n",
    "import dlib\n",
    "from math import hypot\n",
    "cap = cv2.VideoCapture(0)"
   ]
  },
  {
   "cell_type": "code",
   "execution_count": 2,
   "metadata": {},
   "outputs": [],
   "source": [
    "detector = dlib.get_frontal_face_detector()\n",
    "predictor = dlib.shape_predictor('d:/python/shape_predictor_68_face_landmarks.dat')"
   ]
  },
  {
   "cell_type": "code",
   "execution_count": 3,
   "metadata": {},
   "outputs": [],
   "source": [
    "def midpoint(p1, p2):\n",
    "    return int(p1.x+p2.x)//2, int(p1.y+p2.y)//2\n",
    "\n",
    "# // integal number 計算\n",
    "\n",
    "font = cv2.FONT_HERSHEY_PLAIN"
   ]
  },
  {
   "cell_type": "code",
   "execution_count": 4,
   "metadata": {},
   "outputs": [],
   "source": [
    "def get_blinking_ratio(eye_points, facial_landmarks):\n",
    "    left_point = (facial_landmarks.part(eye_points[0]).x, facial_landmarks.part(eye_points[0]).y)\n",
    "    right_point = (facial_landmarks.part(eye_points[3]).x, facial_landmarks.part(eye_points[3]).y)\n",
    "    center_top = midpoint(facial_landmarks.part(eye_points[1]), facial_landmarks.part(eye_points[2]))\n",
    "    center_bottom = midpoint(facial_landmarks.part(eye_points[5]), facial_landmarks.part(eye_points[4]))\n",
    "    \n",
    "  \n",
    "    #hor_line = cv2.line(frame, left_point, right_point, (0, 255, 0), 2)\n",
    "    #ver_line = cv2.line(frame, center_top, center_bottom, (0, 255, 0), 2)\n",
    "\n",
    "    hor_line_lenght = hypot((left_point[0] - right_point[0]), (left_point[1] - right_point[1]))\n",
    "    ver_line_lenght = hypot((center_top[0] - center_bottom[0]), (center_top[1] - center_bottom[1]))\n",
    "    \n",
    "    ratio = hor_line_lenght/ver_line_lenght\n",
    "    return ratio"
   ]
  },
  {
   "cell_type": "code",
   "execution_count": 5,
   "metadata": {},
   "outputs": [],
   "source": [
    "while True:\n",
    "    _, frame = cap.read()\n",
    "    gray = cv2.cvtColor(frame, cv2.COLOR_BGR2GRAY)\n",
    "        \n",
    "    faces = detector(gray)\n",
    "    for face in faces:\n",
    "             \n",
    "        landmarks = predictor(gray, face)\n",
    "        \n",
    "      \n",
    "     # Gaze Detection  \n",
    "        \n",
    "        left_eye_region = np.array([(landmarks.part(36).x, landmarks.part(36).y),\n",
    "                            (landmarks.part(37).x, landmarks.part(37).y),\n",
    "                            (landmarks.part(38).x, landmarks.part(38).y),\n",
    "                            (landmarks.part(39).x, landmarks.part(39).y),\n",
    "                            (landmarks.part(40).x, landmarks.part(40).y),\n",
    "                            (landmarks.part(41).x, landmarks.part(41).y)], np.int32)\n",
    "        #cv2.polylines(frame, [left_eye_region], True, (0, 0, 255), 1)\n",
    "        \n",
    "        \n",
    "        height, width, _ = frame.shape\n",
    "        mask = np.zeros((height, width), np.uint8)\n",
    "        cv2.polylines(mask, [left_eye_region], True, 255, 2)\n",
    "        cv2.fillPoly(mask, [left_eye_region], 255)\n",
    "        left_eye = cv2.bitwise_and(gray, gray, mask=mask)\n",
    "        \n",
    "        min_x = np.min(left_eye_region[:, 0])\n",
    "        max_x = np.max(left_eye_region[:, 0])\n",
    "        min_y = np.min(left_eye_region[:, 1])\n",
    "        max_y = np.max(left_eye_region[:, 1])\n",
    "\n",
    "        gray_eye = left_eye[min_y: max_y, min_x: max_x]\n",
    "        #gray_eye = cv2.cvtColor(eye, cv2.COLOR_BGR2GRAY)\n",
    "        _, threshold_eye = cv2.threshold(gray_eye, 70, 255, cv2.THRESH_BINARY)\n",
    "        \n",
    "        #left_side_threshold = thresh_eye[0: height, 0: int(width/2)]\n",
    "        #right_side_threshold = threshold_eye[0: height, int(width/2): width]\n",
    "        \n",
    "        threshold_eye = cv2.resize(threshold_eye, None, fx=5, fy=5)\n",
    "        eye = cv2.resize(gray_eye, None, fx=5, fy=5)\n",
    "        cv2.imshow(\"Eye\", eye)\n",
    "        cv2.imshow(\"Threshold\", threshold_eye)\n",
    "        cv2.imshow(\"left eye\", left_eye)\n",
    "        #cv2.imshow(\"right\", right_side_threshold)\n",
    "        \n",
    "    \n",
    "        \n",
    "        #cv2.imshow(\"Mask\", mask)\n",
    "        \n",
    "        #cv2.imshow(\"Left eye\", left_eye)\n",
    "        #cv2.imshow(\"Eye\", eye)\n",
    "        \n",
    "        # Blinking eye\n",
    "        \n",
    "        left_eye_ratio = get_blinking_ratio([36, 37, 38, 39, 40, 41], landmarks)\n",
    "        right_eye_ratio = get_blinking_ratio([42, 43, 44, 45, 46, 47], landmarks)\n",
    "        \n",
    "        blinking_ratio=(left_eye_ratio+right_eye_ratio)/2\n",
    "        \n",
    "               \n",
    "    if blinking_ratio > 5.7:\n",
    "        cv2.putText(frame, \"BLINKING\", (50, 150), font, 3, (0, 0, 255))\n",
    "         \n",
    "    cv2.imshow(\"Frame\", frame)\n",
    "    \n",
    "    key = cv2.waitKey(1)\n",
    "    if key == 27:\n",
    "        break"
   ]
  },
  {
   "cell_type": "code",
   "execution_count": 6,
   "metadata": {},
   "outputs": [],
   "source": [
    "cap.release()\n",
    "cv2.destroyAllWindows()"
   ]
  },
  {
   "cell_type": "code",
   "execution_count": null,
   "metadata": {
    "collapsed": true
   },
   "outputs": [],
   "source": [
    "# https://pysource.com/2019/01/14/eye-gaze-detection-1-gaze-controlled-keyboard-with-python-and-opencv-p-3/"
   ]
  },
  {
   "cell_type": "code",
   "execution_count": null,
   "metadata": {
    "collapsed": true
   },
   "outputs": [],
   "source": [
    "# github.com/italojs/facial-landmarks-recognition/blob/master/ shape_predictor_68_face_landmarks.dat"
   ]
  },
  {
   "cell_type": "code",
   "execution_count": null,
   "metadata": {},
   "outputs": [],
   "source": [
    "# mac \n",
    "# github.com/davisking/dlib-models/blob/master/shape_predictor_68_face_landmarks.dat.bz2"
   ]
  }
 ],
 "metadata": {
  "kernelspec": {
   "display_name": "Python 3",
   "language": "python",
   "name": "python3"
  },
  "language_info": {
   "codemirror_mode": {
    "name": "ipython",
    "version": 3
   },
   "file_extension": ".py",
   "mimetype": "text/x-python",
   "name": "python",
   "nbconvert_exporter": "python",
   "pygments_lexer": "ipython3",
   "version": "3.8.5"
  }
 },
 "nbformat": 4,
 "nbformat_minor": 2
}
